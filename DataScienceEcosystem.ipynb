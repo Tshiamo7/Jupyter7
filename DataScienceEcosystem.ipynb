{
 "cells": [
  {
   "cell_type": "markdown",
   "id": "cf7a34dc-4256-45ad-9d87-e1d7ac1c9946",
   "metadata": {},
   "source": [
    "# Data Science Tools and Ecosystem"
   ]
  },
  {
   "cell_type": "markdown",
   "id": "a142a921-303f-4e6b-8822-b7b636656a16",
   "metadata": {},
   "source": [
    "In this notebook, Data Science Tools and Ecosystem are summarized."
   ]
  },
  {
   "cell_type": "markdown",
   "id": "ffd55ce6-eb40-4b5c-8903-fb50d802682f",
   "metadata": {},
   "source": [
    "Objectives:\n",
    "\n",
    "- To understand the Programming languages necessary for data science such as Python, R, SQL, Java,etc.\n",
    "- To understand which Tools that are used for data science such as R studios, Jupyter Notebooks, GITHUB,etc.\n",
    "- To understand which libraries are used for data science such as Pandas, ggplot2 and TensorFlow."
   ]
  },
  {
   "cell_type": "markdown",
   "id": "97903b8e-c587-4fbd-9dc7-de275f1e841c",
   "metadata": {
    "tags": []
   },
   "source": [
    "Some of the popular languages that Data Scientists use are:\n",
    "1. Python\n",
    "2. R\n",
    "3. "
   ]
  },
  {
   "cell_type": "markdown",
   "id": "678f13d4-1177-4584-b246-7b62d0fc657a",
   "metadata": {},
   "source": [
    "Some of the commonly used libraries used by Data Scientists include:\n",
    "1. Pandas\n",
    "2. ggplot2\n",
    "3. TensorFlow"
   ]
  },
  {
   "cell_type": "markdown",
   "id": "d2803106-efee-4850-ac62-41b8b27b6275",
   "metadata": {},
   "source": [
    "|Data Science Tools|\n",
    "|------------------|\n",
    "|JupyterLabs|\n",
    "|R Studios|\n",
    "|Anaconda|"
   ]
  },
  {
   "cell_type": "markdown",
   "id": "91bda601-61d7-49f4-8e78-bd4323c7bb78",
   "metadata": {},
   "source": [
    "### Below are a few examples of evaluating arithmetic expressions in Python"
   ]
  },
  {
   "cell_type": "code",
   "execution_count": 4,
   "id": "89443052-e11c-497b-9312-dddbc3b737a8",
   "metadata": {
    "tags": []
   },
   "outputs": [
    {
     "data": {
      "text/plain": [
       "17"
      ]
     },
     "execution_count": 4,
     "metadata": {},
     "output_type": "execute_result"
    }
   ],
   "source": [
    "# This a simple arithmetic expression to mutiply then add integers\n",
    "(3*4)+5\n"
   ]
  },
  {
   "cell_type": "code",
   "execution_count": 5,
   "id": "019af3b1-b54d-4cdc-891e-7dcda0ad79a6",
   "metadata": {
    "tags": []
   },
   "outputs": [
    {
     "data": {
      "text/plain": [
       "3.3333333333333335"
      ]
     },
     "execution_count": 5,
     "metadata": {},
     "output_type": "execute_result"
    }
   ],
   "source": [
    "# This will convert 200 minutes to hours by diving by 60\n",
    "200/60"
   ]
  },
  {
   "cell_type": "markdown",
   "id": "8f5a7c27-741f-4cf8-9cf2-d0335206df7e",
   "metadata": {},
   "source": [
    "## Author\n",
    "Tshiamo"
   ]
  },
  {
   "cell_type": "markdown",
   "id": "d3b031fd-ec83-4b0e-be02-9860899a88dc",
   "metadata": {},
   "source": []
  },
  {
   "cell_type": "code",
   "execution_count": null,
   "id": "481605a1-0c69-4176-b9de-95b72424cff2",
   "metadata": {},
   "outputs": [],
   "source": []
  }
 ],
 "metadata": {
  "kernelspec": {
   "display_name": "Python",
   "language": "python",
   "name": "conda-env-python-py"
  },
  "language_info": {
   "codemirror_mode": {
    "name": "ipython",
    "version": 3
   },
   "file_extension": ".py",
   "mimetype": "text/x-python",
   "name": "python",
   "nbconvert_exporter": "python",
   "pygments_lexer": "ipython3",
   "version": "3.7.12"
  }
 },
 "nbformat": 4,
 "nbformat_minor": 5
}
